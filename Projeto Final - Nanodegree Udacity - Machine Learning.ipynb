{
 "cells": [
  {
   "cell_type": "markdown",
   "metadata": {},
   "source": [
    "# Projeto Final - Machine Learning\n",
    "## Helton Souza Lima - helton.souza@dataprev.gov.br\n",
    "\n",
    "### Exploração dos dados\n",
    "\n",
    "Primeiro passo deste notebook é fazer a leitura do arquivo consolidado para a criação de um DataFrame Pandas, além dos imports necessários para as outras seções deste notebook. Como forma de visualizar a correta leitura e uma breve amostra do arquivo, conseguimos enxergar as 5 primeiras linhas e algumas colunas. Como são muitas colunas a serem exibidas, várias delas foram ocultadas."
   ]
  },
  {
   "cell_type": "code",
   "execution_count": 3,
   "metadata": {
    "scrolled": true
   },
   "outputs": [
    {
     "ename": "ModuleNotFoundError",
     "evalue": "No module named 'seaborn'",
     "output_type": "error",
     "traceback": [
      "\u001b[0;31m---------------------------------------------------------------------------\u001b[0m",
      "\u001b[0;31mModuleNotFoundError\u001b[0m                       Traceback (most recent call last)",
      "\u001b[0;32m<ipython-input-3-e162757ce4aa>\u001b[0m in \u001b[0;36m<module>\u001b[0;34m\u001b[0m\n\u001b[1;32m      1\u001b[0m \u001b[0;32mimport\u001b[0m \u001b[0mpandas\u001b[0m \u001b[0;32mas\u001b[0m \u001b[0mpd\u001b[0m\u001b[0;34m\u001b[0m\u001b[0;34m\u001b[0m\u001b[0m\n\u001b[0;32m----> 2\u001b[0;31m \u001b[0;32mimport\u001b[0m \u001b[0mseaborn\u001b[0m \u001b[0;32mas\u001b[0m \u001b[0msns\u001b[0m\u001b[0;34m\u001b[0m\u001b[0;34m\u001b[0m\u001b[0m\n\u001b[0m\u001b[1;32m      3\u001b[0m \u001b[0;32mimport\u001b[0m \u001b[0mmatplotlib\u001b[0m\u001b[0;34m.\u001b[0m\u001b[0mpyplot\u001b[0m \u001b[0;32mas\u001b[0m \u001b[0mplt\u001b[0m\u001b[0;34m\u001b[0m\u001b[0;34m\u001b[0m\u001b[0m\n\u001b[1;32m      4\u001b[0m \u001b[0;32mfrom\u001b[0m \u001b[0msklearn\u001b[0m\u001b[0;34m.\u001b[0m\u001b[0mmodel_selection\u001b[0m \u001b[0;32mimport\u001b[0m \u001b[0mtrain_test_split\u001b[0m\u001b[0;34m\u001b[0m\u001b[0;34m\u001b[0m\u001b[0m\n\u001b[1;32m      5\u001b[0m \u001b[0;32mfrom\u001b[0m \u001b[0msklearn\u001b[0m\u001b[0;34m.\u001b[0m\u001b[0mlinear_model\u001b[0m \u001b[0;32mimport\u001b[0m \u001b[0mLinearRegression\u001b[0m\u001b[0;34m\u001b[0m\u001b[0;34m\u001b[0m\u001b[0m\n",
      "\u001b[0;31mModuleNotFoundError\u001b[0m: No module named 'seaborn'"
     ]
    }
   ],
   "source": [
    "import pandas as pd\n",
    "import seaborn as sns\n",
    "import matplotlib.pyplot as plt\n",
    "from sklearn.model_selection import train_test_split\n",
    "from sklearn.linear_model import LinearRegression\n",
    "from sklearn.metrics import accuracy_score\n",
    "from sklearn.tree import DecisionTreeRegressor\n",
    "from sklearn.linear_model import HuberRegressor\n",
    "from sklearn.svm import LinearSVR\n",
    "from sklearn.feature_selection import SelectKBest\n",
    "from sklearn.feature_selection import chi2\n",
    "from sklearn.ensemble import RandomForestRegressor\n",
    "from sklearn.model_selection import GridSearchCV\n",
    "\n",
    "data_origin = pd.read_csv('BolsaFamiliaEIndicesSociais_PorMunicipio_2010.csv')\n",
    "\n",
    "data_origin.head()"
   ]
  },
  {
   "cell_type": "markdown",
   "metadata": {},
   "source": [
    "#### Análise individual de variáveis\n",
    "\n",
    "Para aprofundar um pouco a análise de variáveis, foi realizada uma leitura de todas as descrições das variáveis e algumas delas foram selecionadas para verificação individual, exibindo a quantidade, a média, o desvio-padrão, o valor mínimo, valor máximo e valores que contemplam cada quartil. Abaixo deste resumo, um gráfico exibindo a quantidade de valores.\n",
    "\n",
    "##### Variável \"valor_repassado_bolsa_familia\""
   ]
  },
  {
   "cell_type": "code",
   "execution_count": null,
   "metadata": {},
   "outputs": [],
   "source": [
    "data_origin['valor_repassado_bolsa_familia'].describe()"
   ]
  },
  {
   "cell_type": "code",
   "execution_count": null,
   "metadata": {},
   "outputs": [],
   "source": [
    "sns.distplot(data_origin['valor_repassado_bolsa_familia'])"
   ]
  },
  {
   "cell_type": "markdown",
   "metadata": {},
   "source": [
    "##### Variável \"qtd_familias_beneficiarias_bolsa_familia\""
   ]
  },
  {
   "cell_type": "code",
   "execution_count": null,
   "metadata": {},
   "outputs": [],
   "source": [
    "data_origin['qtd_familias_beneficiarias_bolsa_familia'].describe()"
   ]
  },
  {
   "cell_type": "code",
   "execution_count": null,
   "metadata": {},
   "outputs": [],
   "source": [
    "sns.distplot(data_origin['qtd_familias_beneficiarias_bolsa_familia'])"
   ]
  },
  {
   "cell_type": "markdown",
   "metadata": {},
   "source": [
    "##### Variável \"idhm\""
   ]
  },
  {
   "cell_type": "code",
   "execution_count": null,
   "metadata": {},
   "outputs": [],
   "source": [
    "data_origin['idhm'].describe()"
   ]
  },
  {
   "cell_type": "code",
   "execution_count": null,
   "metadata": {},
   "outputs": [],
   "source": [
    "sns.distplot(data_origin['idhm'])"
   ]
  },
  {
   "cell_type": "markdown",
   "metadata": {},
   "source": [
    "Neste ponto, verificou-se que a variável \"idhm\" possuía alguns registros com valores muito próximos de zero, indicando que estão fora da distribuição que seria para valores acima de 400.\n",
    "\n",
    "Em verificação individual destes casos, percebeu-se que os registros estão apenas transformados para valores entre 0 e 1. Por exemplo, para o Município de Cabixi, em Rondônia, o valor que se verificou foi 0,65. Entretanto, o seu IDHM foi avaliado em 650.\n",
    "\n",
    "Sendo assim, foi necessário realizar a transformação desses casos para que todos fiquem com a mesma base.\n",
    "\n",
    "O mesmo precisou ser feito para as colunas \"idhm_e\", \"idhm_l\" e \"idhm_r\", que são os índices que compõem diretamente o idhm, sendo respectivamente os índices de Educação, Longevidade e Renda.\n",
    "\n",
    "Também precisou ser feito para as colunas: \"i_freq_prop\": Subíndice de frequência escolar - IDHM Educação; \"i_escolaridade\": Subíndice de escolaridade - IDHM Educação\n",
    "\n",
    "##### Variável \"idhm_e\""
   ]
  },
  {
   "cell_type": "code",
   "execution_count": null,
   "metadata": {},
   "outputs": [],
   "source": [
    "data_origin['idhm_e'].describe()"
   ]
  },
  {
   "cell_type": "code",
   "execution_count": null,
   "metadata": {},
   "outputs": [],
   "source": [
    "sns.distplot(data_origin['idhm_e'])"
   ]
  },
  {
   "cell_type": "markdown",
   "metadata": {},
   "source": [
    "##### Variável \"idhm_l\""
   ]
  },
  {
   "cell_type": "code",
   "execution_count": null,
   "metadata": {},
   "outputs": [],
   "source": [
    "data_origin['idhm_l'].describe()"
   ]
  },
  {
   "cell_type": "code",
   "execution_count": null,
   "metadata": {},
   "outputs": [],
   "source": [
    "sns.distplot(data_origin['idhm_l'])"
   ]
  },
  {
   "cell_type": "markdown",
   "metadata": {},
   "source": [
    "##### Variável \"idhm_r\""
   ]
  },
  {
   "cell_type": "code",
   "execution_count": null,
   "metadata": {},
   "outputs": [],
   "source": [
    "data_origin['idhm_r'].describe()"
   ]
  },
  {
   "cell_type": "code",
   "execution_count": null,
   "metadata": {},
   "outputs": [],
   "source": [
    "sns.distplot(data_origin['idhm_r'])"
   ]
  },
  {
   "cell_type": "markdown",
   "metadata": {},
   "source": [
    "Percebe-se que os índices que compõem o IDHM possuem dois picos, exceto o IDHM-E"
   ]
  },
  {
   "cell_type": "markdown",
   "metadata": {},
   "source": [
    "##### Variável \"i_freq_prop\": Subíndice de frequência escolar - IDHM Educação"
   ]
  },
  {
   "cell_type": "code",
   "execution_count": null,
   "metadata": {},
   "outputs": [],
   "source": [
    "data_origin['i_freq_prop'].describe()"
   ]
  },
  {
   "cell_type": "code",
   "execution_count": null,
   "metadata": {},
   "outputs": [],
   "source": [
    "sns.distplot(data_origin['i_freq_prop'])"
   ]
  },
  {
   "cell_type": "markdown",
   "metadata": {},
   "source": [
    "##### Variável \"i_escolaridade\": Subíndice de escolaridade - IDHM Educação"
   ]
  },
  {
   "cell_type": "code",
   "execution_count": null,
   "metadata": {},
   "outputs": [],
   "source": [
    "data_origin['i_escolaridade'].describe()"
   ]
  },
  {
   "cell_type": "code",
   "execution_count": null,
   "metadata": {},
   "outputs": [],
   "source": [
    "sns.distplot(data_origin['i_escolaridade'])"
   ]
  },
  {
   "cell_type": "markdown",
   "metadata": {},
   "source": [
    "##### Variável \"theil\": Índice de Theil - L"
   ]
  },
  {
   "cell_type": "code",
   "execution_count": null,
   "metadata": {},
   "outputs": [],
   "source": [
    "data_origin['theil'].describe()"
   ]
  },
  {
   "cell_type": "code",
   "execution_count": null,
   "metadata": {},
   "outputs": [],
   "source": [
    "sns.distplot(data_origin['theil'])"
   ]
  },
  {
   "cell_type": "markdown",
   "metadata": {},
   "source": [
    "##### Variável \"gini\": Índice de Gini\n",
    "\n",
    "Mede o grau de desigualdade existente na distribuição de indivíduos segundo a renda domiciliar per capita. Seu valor varia de 0, quando não há desigualdade (a renda domiciliar per capita de todos os indivíduos tem o mesmo valor), a 1, quando a desigualdade é máxima (apenas um indivíduo detém toda a renda).O universo de indivíduos é limitado àqueles que vivem em domicílios particulares permanentes."
   ]
  },
  {
   "cell_type": "code",
   "execution_count": null,
   "metadata": {},
   "outputs": [],
   "source": [
    "data_origin['gini'].describe()"
   ]
  },
  {
   "cell_type": "code",
   "execution_count": null,
   "metadata": {},
   "outputs": [],
   "source": [
    "sns.distplot(data_origin['gini'])"
   ]
  },
  {
   "cell_type": "markdown",
   "metadata": {},
   "source": [
    "##### Variável \"pmpob\": % de pobres\n",
    "\n",
    "Proporção dos indivíduos com renda domiciliar per capita igual ou inferior a R$ 140,00 mensais, em reais de agosto de 2010. O universo de indivíduos é limitado àqueles que vivem em domicílios particulares permanentes."
   ]
  },
  {
   "cell_type": "code",
   "execution_count": null,
   "metadata": {},
   "outputs": [],
   "source": [
    "sns.distplot(data_origin['pmpob'])"
   ]
  },
  {
   "cell_type": "markdown",
   "metadata": {},
   "source": [
    "##### Variável \"pind\": Proporção de extremamente pobres\n",
    "\n",
    "Proporção dos indivíduos com renda domiciliar per capita igual ou inferior a R$ 70,00 mensais, em reais de agosto de 2010. O universo de indivíduos é limitado àqueles que vivem em domicílios particulares permanentes."
   ]
  },
  {
   "cell_type": "code",
   "execution_count": null,
   "metadata": {},
   "outputs": [],
   "source": [
    "sns.distplot(data_origin['pind'])"
   ]
  },
  {
   "cell_type": "code",
   "execution_count": null,
   "metadata": {},
   "outputs": [],
   "source": [
    "data_origin['pesotot'].describe()"
   ]
  },
  {
   "cell_type": "code",
   "execution_count": null,
   "metadata": {},
   "outputs": [],
   "source": [
    "sns.distplot(data_origin['pesotot'])"
   ]
  },
  {
   "cell_type": "markdown",
   "metadata": {},
   "source": [
    "### Tratamento dos dados\n",
    "\n",
    "#### Retirando colunas com valores não-numéricos e de códigos pertencentes a domínios"
   ]
  },
  {
   "cell_type": "code",
   "execution_count": null,
   "metadata": {},
   "outputs": [],
   "source": [
    "data_clean = data_origin.drop(columns=['ano', 'codmun6', 'ibge', 'anomes', 'uf', 'codmun7', 'município'], axis = 1)"
   ]
  },
  {
   "cell_type": "markdown",
   "metadata": {},
   "source": [
    "#### Avaliando a correlação de variáveis\n",
    "\n",
    "Utilizando o gráfico de correlação com a intenção de avaliar se há variáveis com forte correlação e podem ser eliminadas do modelo sem perda de informação relevante para a fase de predição.\n",
    "\n",
    "O gráfico apresenta uma relação um-pra-um de cada variáveis e exibe uma cor indicando o grau de correlação. Quanto mais próximo do valor \"1\", que é a cor mais clara, mais correlacionadas entre si as variáveis são.\n",
    "\n",
    "Foi utilizado o método \"corr()\" do Pandas DataFrame e a visualização em gráfico da biblioteca Seaborn."
   ]
  },
  {
   "cell_type": "code",
   "execution_count": null,
   "metadata": {},
   "outputs": [],
   "source": [
    "corrmat = data_origin.corr()\n",
    "f, ax = plt.subplots(figsize=(24, 18))\n",
    "sns.heatmap(corrmat, vmax=1, square=True);"
   ]
  },
  {
   "cell_type": "markdown",
   "metadata": {},
   "source": [
    "Percebe-se uma forte relação entre as seguintes variáveis:\n",
    "\n",
    "**\n",
    "homem10a14\n",
    "homem25a29\n",
    "homem40a44\n",
    "homem55a59\n",
    "homem65a69\n",
    "homemtot\n",
    "mulh10a14\n",
    "mulh25a29\n",
    "mulh40a44\n",
    "mulh55a59\n",
    "mulh65a69\n",
    "mulher80\n",
    "pea1014\n",
    "peso1\n",
    "peso1214\n",
    "peso1517\n",
    "peso18\n",
    "peso1921\n",
    "peso5\n",
    "peso617\n",
    "pesom1517\n",
    "pia\n",
    "pia18m\n",
    "**\n",
    "\n",
    "Sendo assim, é possível proceder com a exclusão dessas variáveis, pois agregam praticamente a mesma informação.\n",
    "\n",
    "Vamos manter apenas a variável **homemtot**, que significa \"População total do sexo masculino\"\n",
    "\n",
    "A seguir, mais algumas iterações deste mesmo processo que não foi possível fazer de uma só vez devido à quantidade de variáveis envolvidas."
   ]
  },
  {
   "cell_type": "code",
   "execution_count": null,
   "metadata": {},
   "outputs": [],
   "source": [
    "data_clean = data_clean.drop(columns=['homem10a14', 'homem25a29', 'homem40a44', 'homem55a59', 'homem65a69', 'mulh10a14', 'mulh25a29', 'mulh40a44', 'mulh55a59', 'mulh65a69', 'mulher80', 'pea1014', 'peso1', 'peso1214', 'peso1517', 'peso18', 'peso1921', 'peso5', 'peso617', 'pesom1517', 'pia', 'pia18m'], axis = 1)"
   ]
  },
  {
   "cell_type": "code",
   "execution_count": null,
   "metadata": {},
   "outputs": [],
   "source": [
    "corrmat = data_clean.corr()\n",
    "f, ax = plt.subplots(figsize=(24, 18))\n",
    "sns.heatmap(corrmat, vmax=1, square=True);"
   ]
  },
  {
   "cell_type": "markdown",
   "metadata": {},
   "source": [
    "Percebe-se uma forte relação entre as seguintes variáveis:\n",
    "\n",
    "homem15a19\n",
    "homem35a39\n",
    "homem5a9\n",
    "homem75a79\n",
    "mulh0a4\n",
    "mulh30a34\n",
    "mulh50a54\n",
    "mulh70a74\n",
    "pea\n",
    "peso1114\n",
    "peso15\n",
    "peso1820\n",
    "peso4\n",
    "peso65\n",
    "pesourb\n",
    "pop\n",
    "\n",
    "\n",
    "Sendo assim, é possível proceder com a exclusão dessas variáveis, pois agregam praticamente a mesma informação.\n",
    "\n",
    "Vamos manter apenas a variável pesourb, que significa \"População residente em área urbana\"\n"
   ]
  },
  {
   "cell_type": "code",
   "execution_count": null,
   "metadata": {},
   "outputs": [],
   "source": [
    "data_clean = data_clean.drop(columns=['homem15a19', 'homem35a39', 'homem5a9', 'homem75a79', 'mulh0a4', 'mulh30a34', 'mulh50a54', 'mulh70a74', 'pea', 'peso1114', 'peso15', 'peso1820', 'peso4', 'peso65', 'pop'], axis = 1)"
   ]
  },
  {
   "cell_type": "code",
   "execution_count": null,
   "metadata": {},
   "outputs": [],
   "source": [
    "corrmat = data_clean.corr()\n",
    "f, ax = plt.subplots(figsize=(24, 18))\n",
    "sns.heatmap(corrmat, vmax=1, square=True);"
   ]
  },
  {
   "cell_type": "code",
   "execution_count": null,
   "metadata": {},
   "outputs": [],
   "source": [
    "data_clean = data_clean.drop(columns=['homem20a24', 'homem50a54', 'mulh20a24', 'mulh5a9', 'peso1113', 'peso1618', 'peso6', 'pesom15m', 'pia1517'], axis = 1)"
   ]
  },
  {
   "cell_type": "code",
   "execution_count": null,
   "metadata": {},
   "outputs": [],
   "source": [
    "corrmat = data_clean.corr()\n",
    "f, ax = plt.subplots(figsize=(24, 18))\n",
    "sns.heatmap(corrmat, vmax=1, square=True);"
   ]
  },
  {
   "cell_type": "code",
   "execution_count": null,
   "metadata": {},
   "outputs": [],
   "source": [
    "data_clean = data_clean.drop(columns=['homem30a34', 'homem60a64', 'mulh15a19', 'mulh45a49', 'mulh75a79', 'pea1517', 'peso13', 'peso1824', 'peso610', 'pesom25m', 'pia1014'], axis = 1)"
   ]
  },
  {
   "cell_type": "code",
   "execution_count": null,
   "metadata": {},
   "outputs": [],
   "source": [
    "corrmat = data_clean.corr()\n",
    "f, ax = plt.subplots(figsize=(24, 18))\n",
    "sns.heatmap(corrmat, vmax=1, square=True);"
   ]
  },
  {
   "cell_type": "code",
   "execution_count": null,
   "metadata": {},
   "outputs": [],
   "source": [
    "data_clean = data_clean.drop(columns=['homem45a49', 'mulh35a39', 'peso1524', 'pesom1014', 'popt'], axis = 1)"
   ]
  },
  {
   "cell_type": "code",
   "execution_count": null,
   "metadata": {
    "scrolled": false
   },
   "outputs": [],
   "source": [
    "corrmat = data_clean.corr()\n",
    "f, ax = plt.subplots(figsize=(24, 18))\n",
    "sns.heatmap(corrmat, vmax=1, square=True);"
   ]
  },
  {
   "cell_type": "code",
   "execution_count": null,
   "metadata": {},
   "outputs": [],
   "source": [
    "data_clean = data_clean.drop(columns=['homem70a74', 'homens80', 'peso25'], axis = 1)"
   ]
  },
  {
   "cell_type": "code",
   "execution_count": null,
   "metadata": {},
   "outputs": [],
   "source": [
    "corrmat = data_clean.corr()\n",
    "f, ax = plt.subplots(figsize=(24, 18))\n",
    "sns.heatmap(corrmat, vmax=.8, square=True);"
   ]
  },
  {
   "cell_type": "code",
   "execution_count": null,
   "metadata": {},
   "outputs": [],
   "source": [
    "data_clean = data_clean.drop(columns=['t_analf15a17', 't_analf18a24', 'pindcri', 'pmpobcri', 'ppobcri', 'rdpc10', 'rdpc3', 'rdpc5', 'ren1', 'ren3'], axis = 1)"
   ]
  },
  {
   "cell_type": "code",
   "execution_count": null,
   "metadata": {},
   "outputs": [],
   "source": [
    "corrmat = data_clean.corr()\n",
    "f, ax = plt.subplots(figsize=(24, 18))\n",
    "sns.heatmap(corrmat, vmax=.8, square=True);"
   ]
  },
  {
   "cell_type": "markdown",
   "metadata": {},
   "source": [
    "#### Verificando valores nulos nas variáveis\n",
    "\n",
    "Por fim, foi utilizado abaixo um algoritmo de verificação de existência de valores nulos."
   ]
  },
  {
   "cell_type": "code",
   "execution_count": 1,
   "metadata": {
    "scrolled": false
   },
   "outputs": [
    {
     "ename": "NameError",
     "evalue": "name 'data_clean' is not defined",
     "output_type": "error",
     "traceback": [
      "\u001b[0;31m---------------------------------------------------------------------------\u001b[0m",
      "\u001b[0;31mNameError\u001b[0m                                 Traceback (most recent call last)",
      "\u001b[0;32m<ipython-input-1-77026232fb63>\u001b[0m in \u001b[0;36m<module>\u001b[0;34m\u001b[0m\n\u001b[1;32m      1\u001b[0m \u001b[0;31m#missing data\u001b[0m\u001b[0;34m\u001b[0m\u001b[0;34m\u001b[0m\u001b[0;34m\u001b[0m\u001b[0m\n\u001b[0;32m----> 2\u001b[0;31m \u001b[0mtotal\u001b[0m \u001b[0;34m=\u001b[0m \u001b[0mdata_clean\u001b[0m\u001b[0;34m.\u001b[0m\u001b[0misnull\u001b[0m\u001b[0;34m(\u001b[0m\u001b[0;34m)\u001b[0m\u001b[0;34m.\u001b[0m\u001b[0msum\u001b[0m\u001b[0;34m(\u001b[0m\u001b[0;34m)\u001b[0m\u001b[0;34m.\u001b[0m\u001b[0msort_values\u001b[0m\u001b[0;34m(\u001b[0m\u001b[0mascending\u001b[0m\u001b[0;34m=\u001b[0m\u001b[0;32mFalse\u001b[0m\u001b[0;34m)\u001b[0m\u001b[0;34m\u001b[0m\u001b[0;34m\u001b[0m\u001b[0m\n\u001b[0m\u001b[1;32m      3\u001b[0m \u001b[0mpercent\u001b[0m \u001b[0;34m=\u001b[0m \u001b[0;34m(\u001b[0m\u001b[0mdata_clean\u001b[0m\u001b[0;34m.\u001b[0m\u001b[0misnull\u001b[0m\u001b[0;34m(\u001b[0m\u001b[0;34m)\u001b[0m\u001b[0;34m.\u001b[0m\u001b[0msum\u001b[0m\u001b[0;34m(\u001b[0m\u001b[0;34m)\u001b[0m\u001b[0;34m/\u001b[0m\u001b[0mdata_clean\u001b[0m\u001b[0;34m.\u001b[0m\u001b[0misnull\u001b[0m\u001b[0;34m(\u001b[0m\u001b[0;34m)\u001b[0m\u001b[0;34m.\u001b[0m\u001b[0mcount\u001b[0m\u001b[0;34m(\u001b[0m\u001b[0;34m)\u001b[0m\u001b[0;34m)\u001b[0m\u001b[0;34m.\u001b[0m\u001b[0msort_values\u001b[0m\u001b[0;34m(\u001b[0m\u001b[0mascending\u001b[0m\u001b[0;34m=\u001b[0m\u001b[0;32mFalse\u001b[0m\u001b[0;34m)\u001b[0m\u001b[0;34m\u001b[0m\u001b[0;34m\u001b[0m\u001b[0m\n\u001b[1;32m      4\u001b[0m \u001b[0mmissing_data\u001b[0m \u001b[0;34m=\u001b[0m \u001b[0mpd\u001b[0m\u001b[0;34m.\u001b[0m\u001b[0mconcat\u001b[0m\u001b[0;34m(\u001b[0m\u001b[0;34m[\u001b[0m\u001b[0mtotal\u001b[0m\u001b[0;34m,\u001b[0m \u001b[0mpercent\u001b[0m\u001b[0;34m]\u001b[0m\u001b[0;34m,\u001b[0m \u001b[0maxis\u001b[0m\u001b[0;34m=\u001b[0m\u001b[0;36m1\u001b[0m\u001b[0;34m,\u001b[0m \u001b[0mkeys\u001b[0m\u001b[0;34m=\u001b[0m\u001b[0;34m[\u001b[0m\u001b[0;34m'Total'\u001b[0m\u001b[0;34m,\u001b[0m \u001b[0;34m'Percent'\u001b[0m\u001b[0;34m]\u001b[0m\u001b[0;34m)\u001b[0m\u001b[0;34m\u001b[0m\u001b[0;34m\u001b[0m\u001b[0m\n\u001b[1;32m      5\u001b[0m \u001b[0mmissing_data\u001b[0m\u001b[0;34m.\u001b[0m\u001b[0mhead\u001b[0m\u001b[0;34m(\u001b[0m\u001b[0;36m20\u001b[0m\u001b[0;34m)\u001b[0m\u001b[0;34m\u001b[0m\u001b[0;34m\u001b[0m\u001b[0m\n",
      "\u001b[0;31mNameError\u001b[0m: name 'data_clean' is not defined"
     ]
    }
   ],
   "source": [
    "#missing data\n",
    "total = data_clean.isnull().sum().sort_values(ascending=False)\n",
    "percent = (data_clean.isnull().sum()/data_clean.isnull().count()).sort_values(ascending=False)\n",
    "missing_data = pd.concat([total, percent], axis=1, keys=['Total', 'Percent'])\n",
    "missing_data.head(20)"
   ]
  },
  {
   "cell_type": "markdown",
   "metadata": {},
   "source": [
    "### Preparação e execução de modelos\n",
    "\n",
    "Abaixo, vamos inicialmente separar nosso dataset em conjunto de treinamento de conjunto de teste para, em seguida, iniciar a instanciação dos modelos e sua respectiva verificação de hyper-parâmetros\n",
    "\n",
    "#### Separando os conjuntos de dados de treinamento e teste"
   ]
  },
  {
   "cell_type": "code",
   "execution_count": 166,
   "metadata": {},
   "outputs": [],
   "source": [
    "y = data_clean['valor_repassado_bolsa_familia']\n",
    "X = data_clean.drop(columns=['qtd_familias_beneficiarias_bolsa_familia','valor_repassado_bolsa_familia' ])\n",
    "X_train, X_test, y_train, y_test = train_test_split(X, y, random_state=100)"
   ]
  },
  {
   "cell_type": "markdown",
   "metadata": {},
   "source": [
    "A cada modelo, seguirá a utilização dos métodos fit e predict\n",
    "Em seguida, a verificação do score, comparando com os dados de teste\n",
    "Por fim, a visualização em gráfico do resultado das predições\n",
    "\n",
    "#### LinearRegression"
   ]
  },
  {
   "cell_type": "code",
   "execution_count": 167,
   "metadata": {},
   "outputs": [
    {
     "name": "stdout",
     "output_type": "stream",
     "text": [
      "0.9201716765529273\n"
     ]
    },
    {
     "data": {
      "image/png": "[encoded data removed]",
      "text/plain": [
       "<Figure size 432x288 with 1 Axes>"
      ]
     },
     "metadata": {
      "needs_background": "light"
     },
     "output_type": "display_data"
    }
   ],
   "source": [
    "model1 = LinearRegression()\n",
    "model1.fit(X_train, y_train)\n",
    "\n",
    "y_predicted1 = model1.predict(X_test)\n",
    "\n",
    "print(model1.score(X_test,y_test))\n",
    "\n",
    "%matplotlib inline\n",
    "\n",
    "plt.scatter(y_test, y_predicted1)\n",
    "range = [y_test.min(), y_predicted1.max()]\n",
    "plt.plot(range, range, 'red')\n",
    "plt.xlabel('Valor real')\n",
    "plt.ylabel('Valor previsto')\n",
    "plt.show()"
   ]
  },
  {
   "cell_type": "markdown",
   "metadata": {},
   "source": [
    "A otimização dos modelos utiliza GridSearch da biblioteca scikit-learn com a verificação de diversos hyper-parâmetros.\n",
    "Em seguida, os parâmetros finais são impressos, assim como o score final, que é o maior score dentre os parâmetros utilizados\n",
    "\n",
    "#### Otimizando o modelo LinearRegression"
   ]
  },
  {
   "cell_type": "code",
   "execution_count": 199,
   "metadata": {},
   "outputs": [
    {
     "name": "stdout",
     "output_type": "stream",
     "text": [
      "{'cv': 'warn', 'error_score': 'raise-deprecating', 'estimator__copy_X': True, 'estimator__fit_intercept': True, 'estimator__n_jobs': None, 'estimator__normalize': False, 'estimator': LinearRegression(copy_X=True, fit_intercept=True, n_jobs=None,\n",
      "         normalize=False), 'fit_params': None, 'iid': 'warn', 'n_jobs': None, 'param_grid': {'fit_intercept': ('True', 'False')}, 'pre_dispatch': '2*n_jobs', 'refit': True, 'return_train_score': 'warn', 'scoring': None, 'verbose': 0}\n",
      "0.9201716765529273\n"
     ]
    },
    {
     "name": "stderr",
     "output_type": "stream",
     "text": [
      "/home/helton/anaconda3/lib/python3.7/site-packages/sklearn/model_selection/_split.py:2053: FutureWarning: You should specify a value for 'cv' instead of relying on the default value. The default value will change from 3 to 5 in version 0.22.\n",
      "  warnings.warn(CV_WARNING, FutureWarning)\n"
     ]
    }
   ],
   "source": [
    "parameters = {'fit_intercept':('True', 'False')}\n",
    "\n",
    "modelX = LinearRegression()\n",
    "clf = GridSearchCV(modelX, parameters)\n",
    "clf.fit(X_train, y_train)\n",
    "print(clf.get_params())\n",
    "print(clf.score(X_test,y_test))"
   ]
  },
  {
   "cell_type": "markdown",
   "metadata": {},
   "source": [
    "#### DecisionTreeRegressor"
   ]
  },
  {
   "cell_type": "code",
   "execution_count": 189,
   "metadata": {
    "scrolled": true
   },
   "outputs": [
    {
     "name": "stdout",
     "output_type": "stream",
     "text": [
      "0.8871603415449428\n"
     ]
    },
    {
     "data": {
      "image/png": "[encoded data removed]",
      "text/plain": [
       "<Figure size 432x288 with 1 Axes>"
      ]
     },
     "metadata": {
      "needs_background": "light"
     },
     "output_type": "display_data"
    }
   ],
   "source": [
    "model2 = DecisionTreeRegressor(random_state=100)\n",
    "model2.fit(X_train, y_train)\n",
    "\n",
    "y_predicted2 = model2.predict(X_test)\n",
    "\n",
    "print(model2.score(X_test,y_test))\n",
    "\n",
    "plt.scatter(y_test, y_predicted2)\n",
    "range = [y_test.min(), y_predicted2.max()]\n",
    "plt.plot(range, range, 'red')\n",
    "plt.xlabel('Valor real')\n",
    "plt.ylabel('Valor previsto')\n",
    "plt.show()"
   ]
  },
  {
   "cell_type": "markdown",
   "metadata": {},
   "source": [
    "#### Otimizando o modelo DecisionTreeRegressor"
   ]
  },
  {
   "cell_type": "code",
   "execution_count": 202,
   "metadata": {},
   "outputs": [
    {
     "name": "stdout",
     "output_type": "stream",
     "text": [
      "{'cv': 5, 'error_score': 'raise-deprecating', 'estimator__criterion': 'mse', 'estimator__max_depth': None, 'estimator__max_features': None, 'estimator__max_leaf_nodes': None, 'estimator__min_impurity_decrease': 0.0, 'estimator__min_impurity_split': None, 'estimator__min_samples_leaf': 1, 'estimator__min_samples_split': 2, 'estimator__min_weight_fraction_leaf': 0.0, 'estimator__presort': False, 'estimator__random_state': 100, 'estimator__splitter': 'best', 'estimator': DecisionTreeRegressor(criterion='mse', max_depth=None, max_features=None,\n",
      "           max_leaf_nodes=None, min_impurity_decrease=0.0,\n",
      "           min_impurity_split=None, min_samples_leaf=1,\n",
      "           min_samples_split=2, min_weight_fraction_leaf=0.0,\n",
      "           presort=False, random_state=100, splitter='best'), 'fit_params': None, 'iid': 'warn', 'n_jobs': None, 'param_grid': {'criterion': ('mse', 'friedman_mse', 'mae'), 'splitter': ('best', 'random'), 'min_samples_split': [2, 4, 6, 8, 10], 'min_samples_leaf': [1, 5, 10]}, 'pre_dispatch': '2*n_jobs', 'refit': True, 'return_train_score': 'warn', 'scoring': None, 'verbose': 0}\n",
      "0.845422598598665\n"
     ]
    },
    {
     "name": "stderr",
     "output_type": "stream",
     "text": [
      "/home/helton/anaconda3/lib/python3.7/site-packages/sklearn/model_selection/_search.py:841: DeprecationWarning: The default of the `iid` parameter will change from True to False in version 0.22 and will be removed in 0.24. This will change numeric results when test-set sizes are unequal.\n",
      "  DeprecationWarning)\n"
     ]
    }
   ],
   "source": [
    "parameters = {'criterion':('mse','friedman_mse','mae'),'splitter':('best','random'),'min_samples_split':[2,4,6,8,10],'min_samples_leaf':[1,5,10]}\n",
    "\n",
    "modelX = DecisionTreeRegressor(random_state=100)\n",
    "clf = GridSearchCV(modelX, param_grid = parameters, cv=5)\n",
    "clf.fit(X_train, y_train)\n",
    "print(clf.get_params())\n",
    "print(clf.score(X_test,y_test))"
   ]
  },
  {
   "cell_type": "code",
   "execution_count": 110,
   "metadata": {},
   "outputs": [
    {
     "name": "stdout",
     "output_type": "stream",
     "text": [
      "t_fora6a14-0.00%\n",
      "t_atraso_2_fund-0.00%\n",
      "pren60-0.00%\n",
      "t_med18m-0.00%\n",
      "t_atraso_2_basico-0.00%\n",
      "pren40-0.00%\n",
      "gini-0.00%\n",
      "r2040-0.00%\n",
      "t_med25m-0.00%\n",
      "t_ativ18m-0.00%\n",
      "r1040-0.00%\n",
      "t_freq18a24-0.00%\n",
      "t_freq6a17-0.00%\n",
      "p_agro-0.00%\n",
      "t_dens-0.00%\n",
      "t_fund11a13-0.00%\n",
      "i_freq_prop-0.00%\n",
      "p_serv-0.00%\n",
      "t_atraso_1_basico-0.00%\n",
      "t_m10a14cf-0.00%\n",
      "p_constr-0.00%\n",
      "t_med18a20-0.00%\n",
      "p_fund-0.00%\n",
      "idhm-0.00%\n",
      "t_flbas-0.00%\n",
      "i_escolaridade-0.00%\n",
      "t_ocupdesloc_1-0.00%\n",
      "t_freq0a3-0.00%\n",
      "idhm_r-0.00%\n",
      "rdpc-0.00%\n",
      "t_fund25m-0.00%\n",
      "corte4-0.00%\n",
      "t_fund15a17-0.00%\n",
      "t_freqmed614-0.00%\n",
      "t_atraso_2_med-0.00%\n",
      "corte9-0.00%\n",
      "t_des1824-0.00%\n",
      "t_fbfund-0.00%\n",
      "t_des-0.00%\n",
      "idhm_e-0.00%\n",
      "t_freqfund1517-0.00%\n",
      "t_env-0.00%\n",
      "t_nestuda_ntrab_mmeio-0.00%\n",
      "pea18m-0.00%\n",
      "pren80-0.00%\n",
      "sobre60-0.00%\n",
      "t_med18a24-0.00%\n",
      "t_fundin_todos-0.00%\n",
      "rdpct-0.00%\n",
      "fectot-0.00%\n",
      "t_luz-0.00%\n",
      "t_super25m-0.00%\n",
      "t_fund16a18-0.00%\n",
      "t_mulchefefif014-0.00%\n",
      "t_freq15a17-0.00%\n",
      "t_crifundin_todos-0.00%\n",
      "pind-0.00%\n",
      "t_flpre-0.00%\n",
      "t_ativ1517-0.00%\n",
      "t_freqfund1824-0.00%\n",
      "t_fundin18minf-0.00%\n",
      "cpr-0.00%\n",
      "t_sluz-0.00%\n",
      "parede-0.00%\n",
      "t_ativ-0.00%\n",
      "rmpob-0.00%\n",
      "pesorur-0.00%\n",
      "idhm_l-0.00%\n",
      "t_fbbas-0.00%\n",
      "t_freqfund45-0.00%\n",
      "t_freq6-0.00%\n",
      "t_m15a17cf-0.00%\n",
      "t_freqsuper1517-0.00%\n",
      "sobre40-0.00%\n",
      "t_banagua-0.00%\n",
      "t_fund18a24-0.00%\n",
      "p_extr-0.00%\n",
      "t_fundin_todos_mmeio-0.00%\n",
      "t_freqmed1824-0.00%\n",
      "t_des18m-0.00%\n",
      "t_agua-0.00%\n",
      "t_des1517-0.00%\n",
      "mort1-0.00%\n",
      "t_lixo-0.00%\n",
      "e_anosestudo-0.00%\n",
      "pesourb-0.00%\n",
      "t_freq5a6-0.00%\n",
      "theil-0.00%\n",
      "p_com-0.00%\n",
      "theiltrab-0.00%\n",
      "t_fbsuper-0.00%\n",
      "t_analf15m-0.00%\n",
      "t_freq4a6-0.00%\n",
      "p_med-0.01%\n",
      "mort5-0.01%\n",
      "t_fund18m-0.01%\n",
      "pren10ricos-0.01%\n",
      "p_transf-0.01%\n",
      "ren5-0.01%\n",
      "ppob-0.01%\n",
      "corte3-0.01%\n",
      "t_atraso_1_fund-0.01%\n",
      "t_freq11a14-0.01%\n",
      "t_des1014-0.01%\n",
      "t_flfund-0.01%\n",
      "t_atraso_0_basico-0.01%\n",
      "t_ativ2529-0.01%\n",
      "t_med19a21-0.01%\n",
      "rpob-0.01%\n",
      "emp-0.01%\n",
      "ren2-0.01%\n",
      "corte1-0.01%\n",
      "t_flsuper-0.01%\n",
      "trabpub-0.01%\n",
      "rdpc2-0.01%\n",
      "t_freq6a14-0.01%\n",
      "t_flmed-0.01%\n",
      "p_formal-0.01%\n",
      "rind-0.01%\n",
      "t_atraso_0_fund-0.02%\n",
      "agua_esgoto-0.02%\n",
      "p_super-0.02%\n",
      "t_fund12a14-0.02%\n",
      "t_ativ1824-0.02%\n",
      "t_rmaxidoso-0.02%\n",
      "renocup-0.03%\n",
      "espvida-0.03%\n",
      "pren20ricos-0.03%\n",
      "t_atraso_0_med-0.03%\n",
      "pren20-0.04%\n",
      "p_siup-0.05%\n",
      "trabcc-0.05%\n",
      "prentrab-0.06%\n",
      "ren0-0.07%\n",
      "rdpc4-0.07%\n",
      "t_ativ1014-0.07%\n",
      "t_analf25a29-0.08%\n",
      "pmpob-0.08%\n",
      "trabsc-0.08%\n",
      "homemtot-0.10%\n",
      "razdep-0.10%\n",
      "t_fbpre-0.11%\n",
      "t_freq25a29-0.11%\n",
      "t_des2529-0.13%\n",
      "t_freq4a5-0.16%\n",
      "corte2-0.24%\n",
      "t_atraso_1_med-0.24%\n",
      "t_analf25m-0.29%\n",
      "mulh60a64-0.37%\n",
      "mulhertot-0.46%\n",
      "t_fbmed-0.51%\n",
      "pesotot-1.02%\n",
      "t_analf18m-1.27%\n",
      "rdpc1-1.75%\n",
      "t_analf11a14-1.92%\n",
      "t_fora4a5-8.67%\n",
      "homem0a4-81.32%\n"
     ]
    }
   ],
   "source": [
    "feature_labels = X_train.columns\n",
    "importance = model2.feature_importances_\n",
    "feature_indexes_by_importance = importance.argsort()\n",
    "for index in feature_indexes_by_importance:\n",
    "    print('{}-{:.2f}%'.format(feature_labels[index], (importance[index] *100.0)))"
   ]
  },
  {
   "cell_type": "markdown",
   "metadata": {},
   "source": [
    "#### RandomForestRegressor"
   ]
  },
  {
   "cell_type": "code",
   "execution_count": 206,
   "metadata": {},
   "outputs": [
    {
     "name": "stderr",
     "output_type": "stream",
     "text": [
      "/home/helton/anaconda3/lib/python3.7/site-packages/sklearn/ensemble/forest.py:246: FutureWarning: The default value of n_estimators will change from 10 in version 0.20 to 100 in 0.22.\n",
      "  \"10 in version 0.20 to 100 in 0.22.\", FutureWarning)\n"
     ]
    },
    {
     "name": "stdout",
     "output_type": "stream",
     "text": [
      "0.9341679555451049\n"
     ]
    },
    {
     "data": {
      "image/png": "[encoded data removed]",
      "text/plain": [
       "<Figure size 432x288 with 1 Axes>"
      ]
     },
     "metadata": {
      "needs_background": "light"
     },
     "output_type": "display_data"
    }
   ],
   "source": [
    "model4 = RandomForestRegressor(random_state=1)\n",
    "model4.fit(X_train, y_train)\n",
    "\n",
    "y_predicted4 = model4.predict(X_test)\n",
    "\n",
    "print(model4.score(X_test,y_test))\n",
    "\n",
    "plt.scatter(y_test, y_predicted4)\n",
    "range = [y_test.min(), y_predicted4.max()]\n",
    "plt.plot(range, range, 'red')\n",
    "plt.xlabel('Valor real')\n",
    "plt.ylabel('Valor previsto')\n",
    "plt.show()"
   ]
  },
  {
   "cell_type": "markdown",
   "metadata": {},
   "source": [
    "#### Otimizando o modelo RandomForestRegressor"
   ]
  },
  {
   "cell_type": "code",
   "execution_count": 214,
   "metadata": {},
   "outputs": [
    {
     "name": "stdout",
     "output_type": "stream",
     "text": [
      "{'cv': 5, 'error_score': 'raise-deprecating', 'estimator__bootstrap': True, 'estimator__criterion': 'mse', 'estimator__max_depth': None, 'estimator__max_features': 'auto', 'estimator__max_leaf_nodes': None, 'estimator__min_impurity_decrease': 0.0, 'estimator__min_impurity_split': None, 'estimator__min_samples_leaf': 1, 'estimator__min_samples_split': 2, 'estimator__min_weight_fraction_leaf': 0.0, 'estimator__n_estimators': 'warn', 'estimator__n_jobs': None, 'estimator__oob_score': False, 'estimator__random_state': 1, 'estimator__verbose': 0, 'estimator__warm_start': False, 'estimator': RandomForestRegressor(bootstrap=True, criterion='mse', max_depth=None,\n",
      "           max_features='auto', max_leaf_nodes=None,\n",
      "           min_impurity_decrease=0.0, min_impurity_split=None,\n",
      "           min_samples_leaf=1, min_samples_split=2,\n",
      "           min_weight_fraction_leaf=0.0, n_estimators='warn', n_jobs=None,\n",
      "           oob_score=False, random_state=1, verbose=0, warm_start=False), 'fit_params': None, 'iid': 'warn', 'n_jobs': None, 'param_grid': {'n_estimators': [10, 15], 'criterion': ('mse', 'friedman_mse', 'mae'), 'min_samples_split': [2, 4], 'min_samples_leaf': [1, 5]}, 'pre_dispatch': '2*n_jobs', 'refit': True, 'return_train_score': 'warn', 'scoring': None, 'verbose': 0}\n",
      "0.9329566940328448\n"
     ]
    }
   ],
   "source": [
    "parameters = {'n_estimators':[10,15], 'criterion':('mse','friedman_mse','mae'),'min_samples_split':[2,4],'min_samples_leaf':[1,5]}\n",
    "\n",
    "modelX = RandomForestRegressor(random_state=1)\n",
    "clf = GridSearchCV(modelX, param_grid = parameters, cv=5)\n",
    "clf.fit(X_train, y_train)\n",
    "print(clf.get_params())\n",
    "print(clf.score(X_test,y_test))"
   ]
  },
  {
   "cell_type": "code",
   "execution_count": 111,
   "metadata": {},
   "outputs": [
    {
     "name": "stdout",
     "output_type": "stream",
     "text": [
      "t_med18m-0.00%\n",
      "idhm_r-0.00%\n",
      "t_fund18a24-0.00%\n",
      "t_fbsuper-0.00%\n",
      "pren40-0.00%\n",
      "e_anosestudo-0.00%\n",
      "r2040-0.00%\n",
      "t_atraso_0_med-0.00%\n",
      "t_med18a24-0.00%\n",
      "t_atraso_2_fund-0.00%\n",
      "t_fund18m-0.00%\n",
      "t_freqmed614-0.00%\n",
      "ren0-0.00%\n",
      "r1040-0.00%\n",
      "t_atraso_0_fund-0.00%\n",
      "rind-0.00%\n",
      "idhm-0.00%\n",
      "p_fund-0.00%\n",
      "t_fund25m-0.00%\n",
      "idhm_e-0.00%\n",
      "t_freq6a17-0.00%\n",
      "t_flsuper-0.00%\n",
      "t_freq6a14-0.00%\n",
      "t_freq5a6-0.00%\n",
      "p_med-0.00%\n",
      "t_freqfund1517-0.00%\n",
      "t_atraso_1_basico-0.00%\n",
      "rdpc-0.00%\n",
      "ren5-0.00%\n",
      "t_atraso_2_basico-0.00%\n",
      "t_ativ2529-0.00%\n",
      "agua_esgoto-0.00%\n",
      "t_banagua-0.00%\n",
      "t_super25m-0.00%\n",
      "t_med19a21-0.00%\n",
      "corte9-0.00%\n",
      "theiltrab-0.00%\n",
      "t_freq18a24-0.00%\n",
      "p_super-0.00%\n",
      "t_freq4a6-0.00%\n",
      "parede-0.00%\n",
      "t_flpre-0.01%\n",
      "t_fbbas-0.01%\n",
      "pren20-0.01%\n",
      "espvida-0.01%\n",
      "t_fund11a13-0.01%\n",
      "t_fundin_todos-0.01%\n",
      "t_fbfund-0.01%\n",
      "trabcc-0.01%\n",
      "t_m15a17cf-0.01%\n",
      "p_constr-0.01%\n",
      "rmpob-0.01%\n",
      "t_flfund-0.01%\n",
      "i_freq_prop-0.01%\n",
      "t_freq0a3-0.01%\n",
      "t_flbas-0.01%\n",
      "t_freqmed1824-0.01%\n",
      "t_ativ1014-0.01%\n",
      "t_fora4a5-0.01%\n",
      "cpr-0.01%\n",
      "mort5-0.01%\n",
      "p_transf-0.01%\n",
      "idhm_l-0.01%\n",
      "renocup-0.01%\n",
      "t_fund16a18-0.01%\n",
      "t_freq15a17-0.01%\n",
      "gini-0.01%\n",
      "theil-0.01%\n",
      "t_fundin18minf-0.01%\n",
      "razdep-0.02%\n",
      "t_freq6-0.02%\n",
      "sobre60-0.02%\n",
      "rdpct-0.02%\n",
      "p_serv-0.02%\n",
      "p_formal-0.02%\n",
      "t_agua-0.02%\n",
      "t_des18m-0.02%\n",
      "t_atraso_1_fund-0.02%\n",
      "corte4-0.02%\n",
      "t_des1824-0.02%\n",
      "ppob-0.02%\n",
      "corte3-0.02%\n",
      "p_agro-0.02%\n",
      "sobre40-0.03%\n",
      "t_des-0.03%\n",
      "emp-0.03%\n",
      "corte2-0.03%\n",
      "pesourb-0.03%\n",
      "pea18m-0.03%\n",
      "t_sluz-0.03%\n",
      "t_des1014-0.03%\n",
      "trabpub-0.03%\n",
      "t_fbmed-0.03%\n",
      "t_analf15m-0.03%\n",
      "t_nestuda_ntrab_mmeio-0.04%\n",
      "t_fund15a17-0.04%\n",
      "t_ativ-0.04%\n",
      "prentrab-0.04%\n",
      "t_des1517-0.04%\n",
      "t_freq25a29-0.04%\n",
      "p_com-0.04%\n",
      "rdpc4-0.04%\n",
      "t_fund12a14-0.05%\n",
      "t_lixo-0.05%\n",
      "t_med25m-0.05%\n",
      "t_dens-0.05%\n",
      "t_luz-0.05%\n",
      "t_fora6a14-0.05%\n",
      "t_freqsuper1517-0.07%\n",
      "t_crifundin_todos-0.07%\n",
      "fectot-0.07%\n",
      "corte1-0.07%\n",
      "t_freqfund45-0.07%\n",
      "p_siup-0.07%\n",
      "t_freqfund1824-0.07%\n",
      "t_med18a20-0.08%\n",
      "t_des2529-0.08%\n",
      "p_extr-0.09%\n",
      "t_atraso_1_med-0.09%\n",
      "t_env-0.09%\n",
      "t_analf25a29-0.11%\n",
      "t_ativ1517-0.12%\n",
      "ren2-0.14%\n",
      "t_fbpre-0.15%\n",
      "t_ativ18m-0.15%\n",
      "t_ativ1824-0.17%\n",
      "t_analf11a14-0.18%\n",
      "rdpc2-0.18%\n",
      "t_ocupdesloc_1-0.19%\n",
      "t_fundin_todos_mmeio-0.19%\n",
      "t_mulchefefif014-0.19%\n",
      "i_escolaridade-0.20%\n",
      "trabsc-0.20%\n",
      "homemtot-0.22%\n",
      "t_analf18m-0.22%\n",
      "t_analf25m-0.25%\n",
      "mort1-0.25%\n",
      "t_rmaxidoso-0.28%\n",
      "pmpob-0.29%\n",
      "t_m10a14cf-0.30%\n",
      "pren80-0.35%\n",
      "pind-0.37%\n",
      "t_flmed-0.37%\n",
      "mulh60a64-0.38%\n",
      "rpob-0.39%\n",
      "rdpc1-0.46%\n",
      "pren60-0.63%\n",
      "mulhertot-0.70%\n",
      "pren20ricos-0.77%\n",
      "t_freq4a5-0.84%\n",
      "pesorur-0.96%\n",
      "t_atraso_0_basico-1.02%\n",
      "t_atraso_2_med-1.19%\n",
      "pesotot-1.24%\n",
      "pren10ricos-1.61%\n",
      "t_freq11a14-2.61%\n",
      "homem0a4-79.62%\n"
     ]
    }
   ],
   "source": [
    "feature_labels = X_train.columns\n",
    "importance = model4.feature_importances_\n",
    "feature_indexes_by_importance = importance.argsort()\n",
    "for index in feature_indexes_by_importance:\n",
    "    print('{}-{:.2f}%'.format(feature_labels[index], (importance[index] *100.0)))"
   ]
  },
  {
   "cell_type": "markdown",
   "metadata": {},
   "source": [
    "#### HuberRegressor"
   ]
  },
  {
   "cell_type": "code",
   "execution_count": 210,
   "metadata": {},
   "outputs": [
    {
     "name": "stdout",
     "output_type": "stream",
     "text": [
      "0.9200642641661478\n"
     ]
    },
    {
     "data": {
      "image/png": "[encoded data removed]",
      "text/plain": [
       "<Figure size 432x288 with 1 Axes>"
      ]
     },
     "metadata": {
      "needs_background": "light"
     },
     "output_type": "display_data"
    }
   ],
   "source": [
    "model6 = HuberRegressor()\n",
    "model6.fit(X_train, y_train)\n",
    "\n",
    "y_predicted6 = model6.predict(X_test)\n",
    "\n",
    "print(model6.score(X_test,y_test))\n",
    "\n",
    "plt.scatter(y_test, y_predicted6)\n",
    "range = [y_test.min(), y_predicted6.max()]\n",
    "plt.plot(range, range, 'red')\n",
    "plt.xlabel('Valor real')\n",
    "plt.ylabel('Valor previsto')\n",
    "plt.show()"
   ]
  },
  {
   "cell_type": "markdown",
   "metadata": {},
   "source": [
    "#### Otimizando o modelo HuberRegressor"
   ]
  },
  {
   "cell_type": "code",
   "execution_count": 211,
   "metadata": {},
   "outputs": [
    {
     "name": "stdout",
     "output_type": "stream",
     "text": [
      "{'cv': 5, 'error_score': 'raise-deprecating', 'estimator__alpha': 0.0001, 'estimator__epsilon': 1.35, 'estimator__fit_intercept': True, 'estimator__max_iter': 100, 'estimator__tol': 1e-05, 'estimator__warm_start': False, 'estimator': HuberRegressor(alpha=0.0001, epsilon=1.35, fit_intercept=True, max_iter=100,\n",
      "        tol=1e-05, warm_start=False), 'fit_params': None, 'iid': 'warn', 'n_jobs': None, 'param_grid': {'epsilon': [1.0, 1.1, 1.2, 1.35, 1.5], 'max_iter': [100, 200, 500], 'alpha': [0.0001, 0.0002, 0.001, 0.01], 'fit_intercept': ('True', 'False')}, 'pre_dispatch': '2*n_jobs', 'refit': True, 'return_train_score': 'warn', 'scoring': None, 'verbose': 0}\n",
      "0.9191062394296777\n"
     ]
    }
   ],
   "source": [
    "parameters = {'epsilon':[1.0, 1.2, 1.35,1.5], 'max_iter':[100,200,500],'alpha':[.0001,.0002,.001],'fit_intercept':('True', 'False')}\n",
    "\n",
    "modelX = HuberRegressor()\n",
    "clf = GridSearchCV(modelX, param_grid = parameters, cv=5)\n",
    "clf.fit(X_train, y_train)\n",
    "print(clf.get_params())\n",
    "print(clf.score(X_test,y_test))"
   ]
  },
  {
   "cell_type": "markdown",
   "metadata": {},
   "source": [
    "#### SVM: LinearSVR"
   ]
  },
  {
   "cell_type": "code",
   "execution_count": 212,
   "metadata": {},
   "outputs": [
    {
     "name": "stdout",
     "output_type": "stream",
     "text": [
      "0.893892673637806\n"
     ]
    },
    {
     "name": "stderr",
     "output_type": "stream",
     "text": [
      "/home/helton/anaconda3/lib/python3.7/site-packages/sklearn/svm/base.py:931: ConvergenceWarning: Liblinear failed to converge, increase the number of iterations.\n",
      "  \"the number of iterations.\", ConvergenceWarning)\n"
     ]
    },
    {
     "data": {
      "image/png": "[encoded data removed]",
      "text/plain": [
       "<Figure size 432x288 with 1 Axes>"
      ]
     },
     "metadata": {
      "needs_background": "light"
     },
     "output_type": "display_data"
    }
   ],
   "source": [
    "model7 = LinearSVR(random_state=1)\n",
    "model7.fit(X_train, y_train)\n",
    "\n",
    "y_predicted7 = model7.predict(X_test)\n",
    "\n",
    "print(model7.score(X_test,y_test))\n",
    "\n",
    "plt.scatter(y_test, y_predicted7)\n",
    "range = [y_test.min(), y_predicted7.max()]\n",
    "plt.plot(range, range, 'red')\n",
    "plt.xlabel('Valor real')\n",
    "plt.ylabel('Valor previsto')\n",
    "plt.show()"
   ]
  },
  {
   "cell_type": "markdown",
   "metadata": {},
   "source": [
    "#### Otimizando o modelo SVM"
   ]
  },
  {
   "cell_type": "code",
   "execution_count": 213,
   "metadata": {},
   "outputs": [
    {
     "name": "stderr",
     "output_type": "stream",
     "text": [
      "/home/helton/anaconda3/lib/python3.7/site-packages/sklearn/model_selection/_split.py:2053: FutureWarning: You should specify a value for 'cv' instead of relying on the default value. The default value will change from 3 to 5 in version 0.22.\n",
      "  warnings.warn(CV_WARNING, FutureWarning)\n",
      "/home/helton/anaconda3/lib/python3.7/site-packages/sklearn/svm/base.py:931: ConvergenceWarning: Liblinear failed to converge, increase the number of iterations.\n",
      "  \"the number of iterations.\", ConvergenceWarning)\n",
      "/home/helton/anaconda3/lib/python3.7/site-packages/sklearn/svm/base.py:931: ConvergenceWarning: Liblinear failed to converge, increase the number of iterations.\n",
      "  \"the number of iterations.\", ConvergenceWarning)\n",
      "/home/helton/anaconda3/lib/python3.7/site-packages/sklearn/svm/base.py:931: ConvergenceWarning: Liblinear failed to converge, increase the number of iterations.\n",
      "  \"the number of iterations.\", ConvergenceWarning)\n",
      "/home/helton/anaconda3/lib/python3.7/site-packages/sklearn/svm/base.py:931: ConvergenceWarning: Liblinear failed to converge, increase the number of iterations.\n",
      "  \"the number of iterations.\", ConvergenceWarning)\n",
      "/home/helton/anaconda3/lib/python3.7/site-packages/sklearn/svm/base.py:931: ConvergenceWarning: Liblinear failed to converge, increase the number of iterations.\n",
      "  \"the number of iterations.\", ConvergenceWarning)\n",
      "/home/helton/anaconda3/lib/python3.7/site-packages/sklearn/svm/base.py:931: ConvergenceWarning: Liblinear failed to converge, increase the number of iterations.\n",
      "  \"the number of iterations.\", ConvergenceWarning)\n",
      "/home/helton/anaconda3/lib/python3.7/site-packages/sklearn/svm/base.py:931: ConvergenceWarning: Liblinear failed to converge, increase the number of iterations.\n",
      "  \"the number of iterations.\", ConvergenceWarning)\n",
      "/home/helton/anaconda3/lib/python3.7/site-packages/sklearn/svm/base.py:931: ConvergenceWarning: Liblinear failed to converge, increase the number of iterations.\n",
      "  \"the number of iterations.\", ConvergenceWarning)\n",
      "/home/helton/anaconda3/lib/python3.7/site-packages/sklearn/svm/base.py:931: ConvergenceWarning: Liblinear failed to converge, increase the number of iterations.\n",
      "  \"the number of iterations.\", ConvergenceWarning)\n",
      "/home/helton/anaconda3/lib/python3.7/site-packages/sklearn/svm/base.py:931: ConvergenceWarning: Liblinear failed to converge, increase the number of iterations.\n",
      "  \"the number of iterations.\", ConvergenceWarning)\n",
      "/home/helton/anaconda3/lib/python3.7/site-packages/sklearn/svm/base.py:931: ConvergenceWarning: Liblinear failed to converge, increase the number of iterations.\n",
      "  \"the number of iterations.\", ConvergenceWarning)\n",
      "/home/helton/anaconda3/lib/python3.7/site-packages/sklearn/svm/base.py:931: ConvergenceWarning: Liblinear failed to converge, increase the number of iterations.\n",
      "  \"the number of iterations.\", ConvergenceWarning)\n",
      "/home/helton/anaconda3/lib/python3.7/site-packages/sklearn/svm/base.py:931: ConvergenceWarning: Liblinear failed to converge, increase the number of iterations.\n",
      "  \"the number of iterations.\", ConvergenceWarning)\n",
      "/home/helton/anaconda3/lib/python3.7/site-packages/sklearn/svm/base.py:931: ConvergenceWarning: Liblinear failed to converge, increase the number of iterations.\n",
      "  \"the number of iterations.\", ConvergenceWarning)\n",
      "/home/helton/anaconda3/lib/python3.7/site-packages/sklearn/svm/base.py:931: ConvergenceWarning: Liblinear failed to converge, increase the number of iterations.\n",
      "  \"the number of iterations.\", ConvergenceWarning)\n",
      "/home/helton/anaconda3/lib/python3.7/site-packages/sklearn/svm/base.py:931: ConvergenceWarning: Liblinear failed to converge, increase the number of iterations.\n",
      "  \"the number of iterations.\", ConvergenceWarning)\n",
      "/home/helton/anaconda3/lib/python3.7/site-packages/sklearn/svm/base.py:931: ConvergenceWarning: Liblinear failed to converge, increase the number of iterations.\n",
      "  \"the number of iterations.\", ConvergenceWarning)\n",
      "/home/helton/anaconda3/lib/python3.7/site-packages/sklearn/svm/base.py:931: ConvergenceWarning: Liblinear failed to converge, increase the number of iterations.\n",
      "  \"the number of iterations.\", ConvergenceWarning)\n",
      "/home/helton/anaconda3/lib/python3.7/site-packages/sklearn/svm/base.py:931: ConvergenceWarning: Liblinear failed to converge, increase the number of iterations.\n",
      "  \"the number of iterations.\", ConvergenceWarning)\n",
      "/home/helton/anaconda3/lib/python3.7/site-packages/sklearn/svm/base.py:931: ConvergenceWarning: Liblinear failed to converge, increase the number of iterations.\n",
      "  \"the number of iterations.\", ConvergenceWarning)\n",
      "/home/helton/anaconda3/lib/python3.7/site-packages/sklearn/svm/base.py:931: ConvergenceWarning: Liblinear failed to converge, increase the number of iterations.\n",
      "  \"the number of iterations.\", ConvergenceWarning)\n",
      "/home/helton/anaconda3/lib/python3.7/site-packages/sklearn/svm/base.py:931: ConvergenceWarning: Liblinear failed to converge, increase the number of iterations.\n",
      "  \"the number of iterations.\", ConvergenceWarning)\n",
      "/home/helton/anaconda3/lib/python3.7/site-packages/sklearn/svm/base.py:931: ConvergenceWarning: Liblinear failed to converge, increase the number of iterations.\n",
      "  \"the number of iterations.\", ConvergenceWarning)\n",
      "/home/helton/anaconda3/lib/python3.7/site-packages/sklearn/svm/base.py:931: ConvergenceWarning: Liblinear failed to converge, increase the number of iterations.\n",
      "  \"the number of iterations.\", ConvergenceWarning)\n"
     ]
    },
    {
     "name": "stdout",
     "output_type": "stream",
     "text": [
      "{'cv': 'warn', 'error_score': 'raise-deprecating', 'estimator__C': 1.0, 'estimator__dual': True, 'estimator__epsilon': 0.0, 'estimator__fit_intercept': True, 'estimator__intercept_scaling': 1.0, 'estimator__loss': 'epsilon_insensitive', 'estimator__max_iter': 1000, 'estimator__random_state': 1, 'estimator__tol': 0.0001, 'estimator__verbose': 0, 'estimator': LinearSVR(C=1.0, dual=True, epsilon=0.0, fit_intercept=True,\n",
      "     intercept_scaling=1.0, loss='epsilon_insensitive', max_iter=1000,\n",
      "     random_state=1, tol=0.0001, verbose=0), 'fit_params': None, 'iid': 'warn', 'n_jobs': None, 'param_grid': {'loss': ('epsilon_insensitive', 'squared_epsilon_insensitive'), 'C': [1, 10], 'max_iter': [1000, 10000], 'random_state': [1]}, 'pre_dispatch': '2*n_jobs', 'refit': True, 'return_train_score': 'warn', 'scoring': None, 'verbose': 0}\n",
      "0.9000703889246101\n"
     ]
    },
    {
     "name": "stderr",
     "output_type": "stream",
     "text": [
      "/home/helton/anaconda3/lib/python3.7/site-packages/sklearn/svm/base.py:931: ConvergenceWarning: Liblinear failed to converge, increase the number of iterations.\n",
      "  \"the number of iterations.\", ConvergenceWarning)\n"
     ]
    }
   ],
   "source": [
    "parameters = {'loss':('epsilon_insensitive', 'squared_epsilon_insensitive'), 'C':[1, 10], 'max_iter':[1000, 10000]}\n",
    "\n",
    "clf = GridSearchCV(model7, parameters)\n",
    "clf.fit(X_train, y_train)\n",
    "print(clf.get_params())\n",
    "print(clf.score(X_test,y_test))"
   ]
  },
  {
   "cell_type": "markdown",
   "metadata": {},
   "source": [
    "### Verificação final\n",
    "\n",
    "Como análise final, após a predição dos modelos, o modelo com maior score foi escolhido e verificado quais são os dois casos com maior diferença entre o valor previsto e o final. A hipótese é que esses seriam as duas cidades com maior diferença entre o padrão observado nas outras cidades e o valor repassado final"
   ]
  },
  {
   "cell_type": "code",
   "execution_count": 216,
   "metadata": {
    "scrolled": false
   },
   "outputs": [
    {
     "name": "stdout",
     "output_type": "stream",
     "text": [
      "2095649.0999999996\n",
      "8058820.0\n",
      "5963170.9\n",
      "616087.7\n",
      "2526322.0\n",
      "1910234.3\n"
     ]
    }
   ],
   "source": [
    "x = 0\n",
    "maior = 0\n",
    "segundo_maior = 0\n",
    "\n",
    "for i in y_test :\n",
    "    if (maior < (i - y_predicted4[x])) and (y_predicted4[x] > 0):\n",
    "        maior = i - y_predicted4[x]\n",
    "        ponto = i\n",
    "        previsto = y_predicted4[x]\n",
    "\n",
    "    else:\n",
    "        if (segundo_maior < (i - y_predicted4[x])) and (y_predicted4[x] > 0):\n",
    "            segundo_maior = i - y_predicted4[x]\n",
    "            segundo_ponto = i\n",
    "            segundo_previsto = y_predicted4[x]\n",
    "\n",
    "    #print(\"%d - %f | | %f || diferença = %f\" % (x, y_predicted1[x], i, (i - y_predicted1[x])))\n",
    "    x += 1\n",
    "    \n",
    "print(maior)\n",
    "print(ponto)\n",
    "print(previsto)\n",
    "\n",
    "print(segundo_maior)\n",
    "print(segundo_ponto)\n",
    "print(segundo_previsto)"
   ]
  },
  {
   "cell_type": "markdown",
   "metadata": {},
   "source": [
    "Os dois pontos observados correspondem às cidades de São Luís-MA e Porto Velho-RO."
   ]
  }
 ],
 "metadata": {
  "kernelspec": {
   "display_name": "Python 3",
   "language": "python",
   "name": "python3"
  },
  "language_info": {
   "codemirror_mode": {
    "name": "ipython",
    "version": 3
   },
   "file_extension": ".py",
   "mimetype": "text/x-python",
   "name": "python",
   "nbconvert_exporter": "python",
   "pygments_lexer": "ipython3",
   "version": "3.7.3"
  }
 },
 "nbformat": 4,
 "nbformat_minor": 2
}
